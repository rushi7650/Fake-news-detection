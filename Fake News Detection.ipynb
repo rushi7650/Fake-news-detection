{
 "cells": [
  {
   "cell_type": "markdown",
   "id": "6a9f9e68",
   "metadata": {},
   "source": [
    "## Fake News Detection :"
   ]
  },
  {
   "cell_type": "markdown",
   "id": "0b843210",
   "metadata": {},
   "source": [
    "### Problem Statement: Given a news article, determine whether it is fake or real. "
   ]
  },
  {
   "cell_type": "markdown",
   "id": "f89edcf2",
   "metadata": {},
   "source": [
    "* Fake news is a serious problem that can have a negative impact on society. It can mislead people, cause panic, and even lead to violence. \n",
    "* Fake news detection is a challenging task, but it is important to develop effective methods to combat this problem."
   ]
  },
  {
   "cell_type": "markdown",
   "id": "339b7b72",
   "metadata": {},
   "source": [
    "#### Importing Liabraries: "
   ]
  },
  {
   "cell_type": "code",
   "execution_count": 1,
   "id": "26d28cf7",
   "metadata": {},
   "outputs": [],
   "source": [
    "from warnings import filterwarnings\n",
    "filterwarnings('ignore')\n",
    "import pandas as pd\n",
    "import numpy as np\n",
    "import seaborn as sns"
   ]
  },
  {
   "cell_type": "markdown",
   "id": "ca029691",
   "metadata": {},
   "source": [
    "#### Loading of Dataset:"
   ]
  },
  {
   "cell_type": "code",
   "execution_count": 2,
   "id": "557b3e5d",
   "metadata": {},
   "outputs": [
    {
     "data": {
      "text/html": [
       "<div>\n",
       "<style scoped>\n",
       "    .dataframe tbody tr th:only-of-type {\n",
       "        vertical-align: middle;\n",
       "    }\n",
       "\n",
       "    .dataframe tbody tr th {\n",
       "        vertical-align: top;\n",
       "    }\n",
       "\n",
       "    .dataframe thead th {\n",
       "        text-align: right;\n",
       "    }\n",
       "</style>\n",
       "<table border=\"1\" class=\"dataframe\">\n",
       "  <thead>\n",
       "    <tr style=\"text-align: right;\">\n",
       "      <th></th>\n",
       "      <th>id</th>\n",
       "      <th>title</th>\n",
       "      <th>author</th>\n",
       "      <th>text</th>\n",
       "      <th>label</th>\n",
       "    </tr>\n",
       "  </thead>\n",
       "  <tbody>\n",
       "    <tr>\n",
       "      <th>0</th>\n",
       "      <td>0</td>\n",
       "      <td>House Dem Aide: We Didn’t Even See Comey’s Let...</td>\n",
       "      <td>Darrell Lucus</td>\n",
       "      <td>House Dem Aide: We Didn’t Even See Comey’s Let...</td>\n",
       "      <td>1</td>\n",
       "    </tr>\n",
       "    <tr>\n",
       "      <th>1</th>\n",
       "      <td>1</td>\n",
       "      <td>FLYNN: Hillary Clinton, Big Woman on Campus - ...</td>\n",
       "      <td>Daniel J. Flynn</td>\n",
       "      <td>Ever get the feeling your life circles the rou...</td>\n",
       "      <td>0</td>\n",
       "    </tr>\n",
       "    <tr>\n",
       "      <th>2</th>\n",
       "      <td>2</td>\n",
       "      <td>Why the Truth Might Get You Fired</td>\n",
       "      <td>Consortiumnews.com</td>\n",
       "      <td>Why the Truth Might Get You Fired October 29, ...</td>\n",
       "      <td>1</td>\n",
       "    </tr>\n",
       "    <tr>\n",
       "      <th>3</th>\n",
       "      <td>3</td>\n",
       "      <td>15 Civilians Killed In Single US Airstrike Hav...</td>\n",
       "      <td>Jessica Purkiss</td>\n",
       "      <td>Videos 15 Civilians Killed In Single US Airstr...</td>\n",
       "      <td>1</td>\n",
       "    </tr>\n",
       "    <tr>\n",
       "      <th>4</th>\n",
       "      <td>4</td>\n",
       "      <td>Iranian woman jailed for fictional unpublished...</td>\n",
       "      <td>Howard Portnoy</td>\n",
       "      <td>Print \\nAn Iranian woman has been sentenced to...</td>\n",
       "      <td>1</td>\n",
       "    </tr>\n",
       "  </tbody>\n",
       "</table>\n",
       "</div>"
      ],
      "text/plain": [
       "   id                                              title              author  \\\n",
       "0   0  House Dem Aide: We Didn’t Even See Comey’s Let...       Darrell Lucus   \n",
       "1   1  FLYNN: Hillary Clinton, Big Woman on Campus - ...     Daniel J. Flynn   \n",
       "2   2                  Why the Truth Might Get You Fired  Consortiumnews.com   \n",
       "3   3  15 Civilians Killed In Single US Airstrike Hav...     Jessica Purkiss   \n",
       "4   4  Iranian woman jailed for fictional unpublished...      Howard Portnoy   \n",
       "\n",
       "                                                text  label  \n",
       "0  House Dem Aide: We Didn’t Even See Comey’s Let...      1  \n",
       "1  Ever get the feeling your life circles the rou...      0  \n",
       "2  Why the Truth Might Get You Fired October 29, ...      1  \n",
       "3  Videos 15 Civilians Killed In Single US Airstr...      1  \n",
       "4  Print \\nAn Iranian woman has been sentenced to...      1  "
      ]
     },
     "execution_count": 2,
     "metadata": {},
     "output_type": "execute_result"
    }
   ],
   "source": [
    "df = pd.read_csv(\"fake_news_train (17).csv\")\n",
    "df.head()"
   ]
  },
  {
   "cell_type": "markdown",
   "id": "15d2aebc",
   "metadata": {},
   "source": [
    "#### Checking Missing Values:"
   ]
  },
  {
   "cell_type": "code",
   "execution_count": 3,
   "id": "b19c6a93",
   "metadata": {},
   "outputs": [
    {
     "data": {
      "text/plain": [
       "id           0\n",
       "title      558\n",
       "author    1957\n",
       "text        39\n",
       "label        0\n",
       "dtype: int64"
      ]
     },
     "execution_count": 3,
     "metadata": {},
     "output_type": "execute_result"
    }
   ],
   "source": [
    "df.isnull().sum()"
   ]
  },
  {
   "cell_type": "markdown",
   "id": "1d6da77f",
   "metadata": {},
   "source": [
    "#### Replace Missing Data With - \"Not Available\""
   ]
  },
  {
   "cell_type": "code",
   "execution_count": 4,
   "id": "2283fc92",
   "metadata": {},
   "outputs": [],
   "source": [
    "df = df.fillna('Not Available')"
   ]
  },
  {
   "cell_type": "markdown",
   "id": "88321e2f",
   "metadata": {},
   "source": [
    "#### Data Preprocessing: "
   ]
  },
  {
   "cell_type": "markdown",
   "id": "dc785fac",
   "metadata": {},
   "source": [
    "* NLTK, or Natural Language Toolkit, is a Python package that you can use for NLP. A lot of the data that you could be analyzing is unstructured data and contains human-readable text. Before you can analyze that data programmatically, you first need to preprocess it."
   ]
  },
  {
   "cell_type": "code",
   "execution_count": 5,
   "id": "50deac74",
   "metadata": {},
   "outputs": [],
   "source": [
    "import nltk"
   ]
  },
  {
   "cell_type": "code",
   "execution_count": 6,
   "id": "0580fc91",
   "metadata": {},
   "outputs": [
    {
     "name": "stderr",
     "output_type": "stream",
     "text": [
      "[nltk_data] Downloading package stopwords to\n",
      "[nltk_data]     C:\\Users\\Dell\\AppData\\Roaming\\nltk_data...\n",
      "[nltk_data]   Unzipping corpora\\stopwords.zip.\n",
      "[nltk_data] Downloading package punkt to\n",
      "[nltk_data]     C:\\Users\\Dell\\AppData\\Roaming\\nltk_data...\n",
      "[nltk_data]   Unzipping tokenizers\\punkt.zip.\n"
     ]
    },
    {
     "data": {
      "text/plain": [
       "179"
      ]
     },
     "execution_count": 6,
     "metadata": {},
     "output_type": "execute_result"
    }
   ],
   "source": [
    "# importing Stopwords\n",
    "from nltk.corpus import stopwords\n",
    "nltk.download('stopwords')\n",
    "import nltk\n",
    "nltk.download('punkt')\n",
    "sw = stopwords.words(\"english\")\n",
    "len(sw)"
   ]
  },
  {
   "cell_type": "code",
   "execution_count": 7,
   "id": "f4e1034c",
   "metadata": {},
   "outputs": [],
   "source": [
    "# Considering Lines without stopwords and removing unnecesssary punctuations\n",
    "import re  #Python provides the re module for using regular expressions. \n",
    "lines = []\n",
    "for i in df.title:\n",
    "    words = \"\"\n",
    "    Q = i.lower()\n",
    "    Q = re.sub(\"[^a-z ]\",\"\",Q)\n",
    "    Q = Q.split(\" \")\n",
    "    #print(Q)\n",
    "    for j in Q:      \n",
    "        if(j not in sw):\n",
    "            words = words + \" \" + j\n",
    "    lines.append(words)"
   ]
  },
  {
   "cell_type": "code",
   "execution_count": 8,
   "id": "d874a3b0",
   "metadata": {},
   "outputs": [
    {
     "data": {
      "text/plain": [
       "[' house dem aide didnt even see comeys letter jason chaffetz tweeted',\n",
       " ' flynn hillary clinton big woman campus  breitbart',\n",
       " ' truth might get fired',\n",
       " '  civilians killed single us airstrike identified',\n",
       " ' iranian woman jailed fictional unpublished story woman stoned death adultery']"
      ]
     },
     "execution_count": 8,
     "metadata": {},
     "output_type": "execute_result"
    }
   ],
   "source": [
    "lines[0:5]"
   ]
  },
  {
   "cell_type": "code",
   "execution_count": 9,
   "id": "c7b48556",
   "metadata": {},
   "outputs": [],
   "source": [
    "# TFIDF Vectorization of all lines\n",
    "\n",
    "from sklearn.feature_extraction.text import TfidfVectorizer\n",
    "ti = TfidfVectorizer()\n",
    "X = ti.fit_transform(pd.Series(lines)).toarray()\n",
    "Y = df.label"
   ]
  },
  {
   "cell_type": "code",
   "execution_count": 11,
   "id": "aebb2fb9",
   "metadata": {},
   "outputs": [
    {
     "data": {
      "text/plain": [
       "(20800, 22870)"
      ]
     },
     "execution_count": 11,
     "metadata": {},
     "output_type": "execute_result"
    }
   ],
   "source": [
    "X.shape"
   ]
  },
  {
   "cell_type": "code",
   "execution_count": 12,
   "id": "0f121015",
   "metadata": {},
   "outputs": [
    {
     "data": {
      "text/plain": [
       "(20800,)"
      ]
     },
     "execution_count": 12,
     "metadata": {},
     "output_type": "execute_result"
    }
   ],
   "source": [
    "Y.shape"
   ]
  },
  {
   "cell_type": "markdown",
   "id": "ababac63",
   "metadata": {},
   "source": [
    "### Train Test Split "
   ]
  },
  {
   "cell_type": "code",
   "execution_count": 13,
   "id": "323c575a",
   "metadata": {},
   "outputs": [],
   "source": [
    "from sklearn.model_selection import train_test_split\n",
    "xtrain, xtest, ytrain, ytest =train_test_split(X,Y,test_size=0.2,random_state=21,stratify=Y)"
   ]
  },
  {
   "cell_type": "code",
   "execution_count": 14,
   "id": "5885d26b",
   "metadata": {},
   "outputs": [
    {
     "data": {
      "text/plain": [
       "(16640, 22870)"
      ]
     },
     "execution_count": 14,
     "metadata": {},
     "output_type": "execute_result"
    }
   ],
   "source": [
    "xtrain.shape"
   ]
  },
  {
   "cell_type": "code",
   "execution_count": 15,
   "id": "cfd96774",
   "metadata": {},
   "outputs": [
    {
     "data": {
      "text/plain": [
       "(4160, 22870)"
      ]
     },
     "execution_count": 15,
     "metadata": {},
     "output_type": "execute_result"
    }
   ],
   "source": [
    "xtest.shape"
   ]
  },
  {
   "cell_type": "code",
   "execution_count": 16,
   "id": "24b64565",
   "metadata": {},
   "outputs": [
    {
     "data": {
      "text/plain": [
       "(4160,)"
      ]
     },
     "execution_count": 16,
     "metadata": {},
     "output_type": "execute_result"
    }
   ],
   "source": [
    "ytest.shape"
   ]
  },
  {
   "cell_type": "markdown",
   "id": "82b0126c",
   "metadata": {},
   "source": [
    "### Building A Nueral Network With Keras "
   ]
  },
  {
   "cell_type": "code",
   "execution_count": 17,
   "id": "4c4f16f0",
   "metadata": {},
   "outputs": [],
   "source": [
    "from keras.models import Sequential\n",
    "from keras.layers import Dense, Dropout\n",
    "\n",
    "nn = Sequential()\n",
    "nn.add(Dense(256,input_dim=X.shape[1],activation='relu'))\n",
    "nn.add(Dropout(0.3))\n",
    "nn.add(Dense(256,activation='relu'))\n",
    "nn.add(Dropout(0.3))\n",
    "nn.add(Dense(256,activation='relu'))\n",
    "nn.add(Dropout(0.3))\n",
    "nn.add(Dense(1,activation='sigmoid'))"
   ]
  },
  {
   "cell_type": "code",
   "execution_count": 18,
   "id": "778c524a",
   "metadata": {},
   "outputs": [],
   "source": [
    "# Compile Model\n",
    "nn.compile(loss='binary_crossentropy',metrics='accuracy',optimizer='adam')"
   ]
  },
  {
   "cell_type": "code",
   "execution_count": 19,
   "id": "1f935ac4",
   "metadata": {},
   "outputs": [
    {
     "name": "stdout",
     "output_type": "stream",
     "text": [
      "Epoch 1/5\n",
      "520/520 [==============================] - 31s 57ms/step - loss: 0.2417 - accuracy: 0.9023 - val_loss: 0.1698 - val_accuracy: 0.9312\n",
      "Epoch 2/5\n",
      "520/520 [==============================] - 29s 55ms/step - loss: 0.0592 - accuracy: 0.9776 - val_loss: 0.1934 - val_accuracy: 0.9257\n",
      "Epoch 3/5\n",
      "520/520 [==============================] - 29s 55ms/step - loss: 0.0106 - accuracy: 0.9968 - val_loss: 0.3624 - val_accuracy: 0.9243\n",
      "Epoch 4/5\n",
      "520/520 [==============================] - 29s 55ms/step - loss: 0.0022 - accuracy: 0.9992 - val_loss: 0.4423 - val_accuracy: 0.9216\n",
      "Epoch 5/5\n",
      "520/520 [==============================] - 29s 56ms/step - loss: 8.0157e-04 - accuracy: 0.9998 - val_loss: 0.6020 - val_accuracy: 0.9257\n"
     ]
    }
   ],
   "source": [
    "# Fit the model\n",
    "model = nn.fit(xtrain,ytrain, validation_data=(xtest,ytest),epochs=5)"
   ]
  },
  {
   "cell_type": "code",
   "execution_count": 20,
   "id": "26b8f705",
   "metadata": {},
   "outputs": [
    {
     "data": {
      "image/png": "[encoded data removed]",
      "text/plain": [
       "<Figure size 640x480 with 1 Axes>"
      ]
     },
     "metadata": {},
     "output_type": "display_data"
    }
   ],
   "source": [
    "import matplotlib.pyplot as plt\n",
    "plt.plot(model.history[\"accuracy\"])\n",
    "plt.plot(model.history[\"val_accuracy\"])\n",
    "plt.show()"
   ]
  },
  {
   "cell_type": "markdown",
   "id": "6b95c308",
   "metadata": {},
   "source": [
    "### Evaluate Model :\n"
   ]
  },
  {
   "cell_type": "code",
   "execution_count": 21,
   "id": "62ef275b",
   "metadata": {},
   "outputs": [
    {
     "name": "stdout",
     "output_type": "stream",
     "text": [
      "520/520 [==============================] - 4s 7ms/step\n",
      "130/130 [==============================] - 1s 7ms/step\n"
     ]
    }
   ],
   "source": [
    "tr_pred = nn.predict(xtrain)\n",
    "ts_pred = nn.predict(xtest)"
   ]
  },
  {
   "cell_type": "code",
   "execution_count": 22,
   "id": "ab993c81",
   "metadata": {},
   "outputs": [],
   "source": [
    "tr_pred1 = []\n",
    "\n",
    "for i in tr_pred:\n",
    "    if i>0.5:\n",
    "        tr_pred1.append(1)\n",
    "    else:\n",
    "        tr_pred1.append(0)"
   ]
  },
  {
   "cell_type": "code",
   "execution_count": 23,
   "id": "f66f10f4",
   "metadata": {},
   "outputs": [],
   "source": [
    "ts_pred1 = []\n",
    "\n",
    "for i in ts_pred:\n",
    "    if i>0.5:\n",
    "        ts_pred1.append(1)\n",
    "        \n",
    "    else:\n",
    "        ts_pred1.append(0)"
   ]
  },
  {
   "cell_type": "code",
   "execution_count": 24,
   "id": "41c6657b",
   "metadata": {},
   "outputs": [
    {
     "name": "stdout",
     "output_type": "stream",
     "text": [
      "Training Accuracy of Model is :  1.0\n",
      "Testing Accuracy of Model is  :  0.9257\n"
     ]
    }
   ],
   "source": [
    "from sklearn.metrics import accuracy_score\n",
    "tr_acc = accuracy_score(ytrain,tr_pred1)\n",
    "ts_acc = accuracy_score(ytest,ts_pred1)\n",
    "print('Training Accuracy of Model is : ',round(tr_acc,4))\n",
    "print('Testing Accuracy of Model is  : ',round(ts_acc,4))\n"
   ]
  },
  {
   "cell_type": "markdown",
   "id": "b65d9ae6",
   "metadata": {},
   "source": [
    "### Confusion Matrix For Testing Split :"
   ]
  },
  {
   "cell_type": "code",
   "execution_count": 25,
   "id": "42f13a8a",
   "metadata": {},
   "outputs": [
    {
     "data": {
      "text/plain": [
       "<AxesSubplot:>"
      ]
     },
     "execution_count": 25,
     "metadata": {},
     "output_type": "execute_result"
    },
    {
     "data": {
      "image/png": "[encoded data removed]",
      "text/plain": [
       "<Figure size 640x480 with 2 Axes>"
      ]
     },
     "metadata": {},
     "output_type": "display_data"
    }
   ],
   "source": [
    "from sklearn.metrics import confusion_matrix\n",
    "cf = confusion_matrix(ytest,ts_pred1)\n",
    "import seaborn as sb\n",
    "sb.heatmap(cf,annot=True)"
   ]
  },
  {
   "cell_type": "markdown",
   "id": "30083086",
   "metadata": {},
   "source": [
    "### Classification Report:"
   ]
  },
  {
   "cell_type": "code",
   "execution_count": 26,
   "id": "a988383f",
   "metadata": {},
   "outputs": [
    {
     "name": "stdout",
     "output_type": "stream",
     "text": [
      "              precision    recall  f1-score   support\n",
      "\n",
      "           0       0.96      0.89      0.92      2077\n",
      "           1       0.90      0.96      0.93      2083\n",
      "\n",
      "    accuracy                           0.93      4160\n",
      "   macro avg       0.93      0.93      0.93      4160\n",
      "weighted avg       0.93      0.93      0.93      4160\n",
      "\n"
     ]
    }
   ],
   "source": [
    "from sklearn.metrics import classification_report\n",
    "cr = classification_report(ytest,ts_pred1)\n",
    "print(cr)"
   ]
  },
  {
   "cell_type": "markdown",
   "id": "0041209b",
   "metadata": {},
   "source": [
    "### Predicting with fake news with test.csv file: "
   ]
  },
  {
   "cell_type": "code",
   "execution_count": 27,
   "id": "bfc267a7",
   "metadata": {},
   "outputs": [
    {
     "data": {
      "text/html": [
       "<div>\n",
       "<style scoped>\n",
       "    .dataframe tbody tr th:only-of-type {\n",
       "        vertical-align: middle;\n",
       "    }\n",
       "\n",
       "    .dataframe tbody tr th {\n",
       "        vertical-align: top;\n",
       "    }\n",
       "\n",
       "    .dataframe thead th {\n",
       "        text-align: right;\n",
       "    }\n",
       "</style>\n",
       "<table border=\"1\" class=\"dataframe\">\n",
       "  <thead>\n",
       "    <tr style=\"text-align: right;\">\n",
       "      <th></th>\n",
       "      <th>id</th>\n",
       "      <th>title</th>\n",
       "      <th>author</th>\n",
       "      <th>text</th>\n",
       "    </tr>\n",
       "  </thead>\n",
       "  <tbody>\n",
       "    <tr>\n",
       "      <th>0</th>\n",
       "      <td>20800</td>\n",
       "      <td>Specter of Trump Loosens Tongues, if Not Purse...</td>\n",
       "      <td>David Streitfeld</td>\n",
       "      <td>PALO ALTO, Calif.  —   After years of scorning...</td>\n",
       "    </tr>\n",
       "    <tr>\n",
       "      <th>1</th>\n",
       "      <td>20801</td>\n",
       "      <td>Russian warships ready to strike terrorists ne...</td>\n",
       "      <td>NaN</td>\n",
       "      <td>Russian warships ready to strike terrorists ne...</td>\n",
       "    </tr>\n",
       "    <tr>\n",
       "      <th>2</th>\n",
       "      <td>20802</td>\n",
       "      <td>#NoDAPL: Native American Leaders Vow to Stay A...</td>\n",
       "      <td>Common Dreams</td>\n",
       "      <td>Videos #NoDAPL: Native American Leaders Vow to...</td>\n",
       "    </tr>\n",
       "    <tr>\n",
       "      <th>3</th>\n",
       "      <td>20803</td>\n",
       "      <td>Tim Tebow Will Attempt Another Comeback, This ...</td>\n",
       "      <td>Daniel Victor</td>\n",
       "      <td>If at first you don’t succeed, try a different...</td>\n",
       "    </tr>\n",
       "    <tr>\n",
       "      <th>4</th>\n",
       "      <td>20804</td>\n",
       "      <td>Keiser Report: Meme Wars (E995)</td>\n",
       "      <td>Truth Broadcast Network</td>\n",
       "      <td>42 mins ago 1 Views 0 Comments 0 Likes 'For th...</td>\n",
       "    </tr>\n",
       "  </tbody>\n",
       "</table>\n",
       "</div>"
      ],
      "text/plain": [
       "      id                                              title  \\\n",
       "0  20800  Specter of Trump Loosens Tongues, if Not Purse...   \n",
       "1  20801  Russian warships ready to strike terrorists ne...   \n",
       "2  20802  #NoDAPL: Native American Leaders Vow to Stay A...   \n",
       "3  20803  Tim Tebow Will Attempt Another Comeback, This ...   \n",
       "4  20804                    Keiser Report: Meme Wars (E995)   \n",
       "\n",
       "                    author                                               text  \n",
       "0         David Streitfeld  PALO ALTO, Calif.  —   After years of scorning...  \n",
       "1                      NaN  Russian warships ready to strike terrorists ne...  \n",
       "2            Common Dreams  Videos #NoDAPL: Native American Leaders Vow to...  \n",
       "3            Daniel Victor  If at first you don’t succeed, try a different...  \n",
       "4  Truth Broadcast Network  42 mins ago 1 Views 0 Comments 0 Likes 'For th...  "
      ]
     },
     "execution_count": 27,
     "metadata": {},
     "output_type": "execute_result"
    }
   ],
   "source": [
    "df_test = pd.read_csv(\"fake_news_test (3).csv\")\n",
    "df_test.head()"
   ]
  },
  {
   "cell_type": "markdown",
   "id": "b7815d71",
   "metadata": {},
   "source": [
    "### Data Preprocessing for df_test:"
   ]
  },
  {
   "cell_type": "code",
   "execution_count": 28,
   "id": "e063134e",
   "metadata": {},
   "outputs": [
    {
     "data": {
      "text/plain": [
       "id          0\n",
       "title     122\n",
       "author    503\n",
       "text        7\n",
       "dtype: int64"
      ]
     },
     "execution_count": 28,
     "metadata": {},
     "output_type": "execute_result"
    }
   ],
   "source": [
    "df_test.isna().sum()"
   ]
  },
  {
   "cell_type": "code",
   "execution_count": 29,
   "id": "73bdbbba",
   "metadata": {},
   "outputs": [],
   "source": [
    "df_test = df_test.fillna('Not Available')"
   ]
  },
  {
   "cell_type": "code",
   "execution_count": 30,
   "id": "9bc0807a",
   "metadata": {},
   "outputs": [],
   "source": [
    "import re\n",
    "lines_test = []\n",
    "for i in df_test.title:\n",
    "    words = \"\"\n",
    "    Q = i.lower()\n",
    "    Q = re.sub(\"[^a-z ]\",\"\",Q)\n",
    "    Q = Q.split(\" \")\n",
    "    #print(Q)\n",
    "    for j in Q:      \n",
    "        if(j not in sw):\n",
    "            words = words + \" \" + j\n",
    "    lines_test.append(words)"
   ]
  },
  {
   "cell_type": "code",
   "execution_count": 31,
   "id": "c7bd72fc",
   "metadata": {},
   "outputs": [],
   "source": [
    "X_test = ti.transform(pd.Series(lines_test)).toarray()"
   ]
  },
  {
   "cell_type": "code",
   "execution_count": 32,
   "id": "2371a18f",
   "metadata": {},
   "outputs": [
    {
     "data": {
      "text/plain": [
       "array([[0., 0., 0., ..., 0., 0., 0.],\n",
       "       [0., 0., 0., ..., 0., 0., 0.],\n",
       "       [0., 0., 0., ..., 0., 0., 0.],\n",
       "       ...,\n",
       "       [0., 0., 0., ..., 0., 0., 0.],\n",
       "       [0., 0., 0., ..., 0., 0., 0.],\n",
       "       [0., 0., 0., ..., 0., 0., 0.]])"
      ]
     },
     "execution_count": 32,
     "metadata": {},
     "output_type": "execute_result"
    }
   ],
   "source": [
    "X_test"
   ]
  },
  {
   "cell_type": "code",
   "execution_count": 33,
   "id": "3f251345",
   "metadata": {},
   "outputs": [
    {
     "data": {
      "text/plain": [
       "(5200, 22870)"
      ]
     },
     "execution_count": 33,
     "metadata": {},
     "output_type": "execute_result"
    }
   ],
   "source": [
    "X_test.shape"
   ]
  },
  {
   "cell_type": "markdown",
   "id": "dda961e6",
   "metadata": {},
   "source": [
    "### Predictions: "
   ]
  },
  {
   "cell_type": "code",
   "execution_count": 34,
   "id": "d1131c96",
   "metadata": {},
   "outputs": [
    {
     "name": "stdout",
     "output_type": "stream",
     "text": [
      "163/163 [==============================] - 1s 8ms/step\n"
     ]
    }
   ],
   "source": [
    "test_pred = nn.predict(X_test)"
   ]
  },
  {
   "cell_type": "code",
   "execution_count": 35,
   "id": "33ae2d80",
   "metadata": {},
   "outputs": [],
   "source": [
    "test_pred1 = []\n",
    "for i in test_pred:\n",
    "    if i>0.5:\n",
    "        test_pred1.append(1)\n",
    "    else:\n",
    "        test_pred1.append(0)"
   ]
  },
  {
   "cell_type": "markdown",
   "id": "585ed608",
   "metadata": {},
   "source": [
    "### Creating DataFrame with above test predictions"
   ]
  },
  {
   "cell_type": "code",
   "execution_count": 36,
   "id": "72952bdb",
   "metadata": {},
   "outputs": [],
   "source": [
    "idx = list(df_test['id'])\n",
    "df_out = pd.DataFrame({'id':idx, 'label':test_pred1})"
   ]
  },
  {
   "cell_type": "code",
   "execution_count": 37,
   "id": "fd5fac78",
   "metadata": {},
   "outputs": [
    {
     "data": {
      "text/html": [
       "<div>\n",
       "<style scoped>\n",
       "    .dataframe tbody tr th:only-of-type {\n",
       "        vertical-align: middle;\n",
       "    }\n",
       "\n",
       "    .dataframe tbody tr th {\n",
       "        vertical-align: top;\n",
       "    }\n",
       "\n",
       "    .dataframe thead th {\n",
       "        text-align: right;\n",
       "    }\n",
       "</style>\n",
       "<table border=\"1\" class=\"dataframe\">\n",
       "  <thead>\n",
       "    <tr style=\"text-align: right;\">\n",
       "      <th></th>\n",
       "      <th>id</th>\n",
       "      <th>label</th>\n",
       "    </tr>\n",
       "  </thead>\n",
       "  <tbody>\n",
       "    <tr>\n",
       "      <th>0</th>\n",
       "      <td>20800</td>\n",
       "      <td>0</td>\n",
       "    </tr>\n",
       "    <tr>\n",
       "      <th>1</th>\n",
       "      <td>20801</td>\n",
       "      <td>1</td>\n",
       "    </tr>\n",
       "    <tr>\n",
       "      <th>2</th>\n",
       "      <td>20802</td>\n",
       "      <td>1</td>\n",
       "    </tr>\n",
       "    <tr>\n",
       "      <th>3</th>\n",
       "      <td>20803</td>\n",
       "      <td>0</td>\n",
       "    </tr>\n",
       "    <tr>\n",
       "      <th>4</th>\n",
       "      <td>20804</td>\n",
       "      <td>1</td>\n",
       "    </tr>\n",
       "  </tbody>\n",
       "</table>\n",
       "</div>"
      ],
      "text/plain": [
       "      id  label\n",
       "0  20800      0\n",
       "1  20801      1\n",
       "2  20802      1\n",
       "3  20803      0\n",
       "4  20804      1"
      ]
     },
     "execution_count": 37,
     "metadata": {},
     "output_type": "execute_result"
    }
   ],
   "source": [
    "df_out.head()"
   ]
  },
  {
   "cell_type": "code",
   "execution_count": 38,
   "id": "f873b69f",
   "metadata": {},
   "outputs": [
    {
     "data": {
      "text/html": [
       "<div>\n",
       "<style scoped>\n",
       "    .dataframe tbody tr th:only-of-type {\n",
       "        vertical-align: middle;\n",
       "    }\n",
       "\n",
       "    .dataframe tbody tr th {\n",
       "        vertical-align: top;\n",
       "    }\n",
       "\n",
       "    .dataframe thead th {\n",
       "        text-align: right;\n",
       "    }\n",
       "</style>\n",
       "<table border=\"1\" class=\"dataframe\">\n",
       "  <thead>\n",
       "    <tr style=\"text-align: right;\">\n",
       "      <th></th>\n",
       "      <th>id</th>\n",
       "    </tr>\n",
       "    <tr>\n",
       "      <th>label</th>\n",
       "      <th></th>\n",
       "    </tr>\n",
       "  </thead>\n",
       "  <tbody>\n",
       "    <tr>\n",
       "      <th>0</th>\n",
       "      <td>2418</td>\n",
       "    </tr>\n",
       "    <tr>\n",
       "      <th>1</th>\n",
       "      <td>2782</td>\n",
       "    </tr>\n",
       "  </tbody>\n",
       "</table>\n",
       "</div>"
      ],
      "text/plain": [
       "         id\n",
       "label      \n",
       "0      2418\n",
       "1      2782"
      ]
     },
     "execution_count": 38,
     "metadata": {},
     "output_type": "execute_result"
    }
   ],
   "source": [
    "df_out.groupby(by='label').count()"
   ]
  },
  {
   "cell_type": "code",
   "execution_count": 39,
   "id": "377a2c4e",
   "metadata": {},
   "outputs": [
    {
     "data": {
      "text/plain": [
       "<AxesSubplot:xlabel='label'>"
      ]
     },
     "execution_count": 39,
     "metadata": {},
     "output_type": "execute_result"
    },
    {
     "data": {
      "image/png": "[encoded data removed]",
      "text/plain": [
       "<Figure size 640x480 with 1 Axes>"
      ]
     },
     "metadata": {},
     "output_type": "display_data"
    }
   ],
   "source": [
    "df_out.groupby(by='label').count().plot(kind='bar')"
   ]
  },
  {
   "cell_type": "code",
   "execution_count": null,
   "id": "a9475d7f",
   "metadata": {},
   "outputs": [],
   "source": []
  }
 ],
 "metadata": {
  "kernelspec": {
   "display_name": "Python 3 (ipykernel)",
   "language": "python",
   "name": "python3"
  },
  "language_info": {
   "codemirror_mode": {
    "name": "ipython",
    "version": 3
   },
   "file_extension": ".py",
   "mimetype": "text/x-python",
   "name": "python",
   "nbconvert_exporter": "python",
   "pygments_lexer": "ipython3",
   "version": "3.9.13"
  }
 },
 "nbformat": 4,
 "nbformat_minor": 5
}
